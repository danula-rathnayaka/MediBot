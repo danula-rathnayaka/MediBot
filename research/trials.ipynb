{
 "cells": [
  {
   "cell_type": "code",
   "execution_count": null,
   "id": "initial_id",
   "metadata": {
    "collapsed": true
   },
   "outputs": [],
   "source": [
    "import os\n",
    "\n",
    "os.chdir(\"../\")\n",
    "os.getcwd()"
   ]
  },
  {
   "cell_type": "code",
   "outputs": [],
   "source": [
    "from langchain_community.document_loaders import DirectoryLoader, PyPDFLoader\n",
    "from langchain.text_splitter import RecursiveCharacterTextSplitter"
   ],
   "metadata": {
    "collapsed": false
   },
   "id": "8dd20db87fd4bae9",
   "execution_count": null
  },
  {
   "cell_type": "code",
   "outputs": [],
   "source": [
    "#Extract Data from the PDF File\n",
    "def load_pdf_file(path):\n",
    "    loader = DirectoryLoader(path,\n",
    "                             glob=\"*.pdf\",\n",
    "                             loader_cls=PyPDFLoader)\n",
    "\n",
    "    return loader.load()"
   ],
   "metadata": {
    "collapsed": false
   },
   "id": "89041272c456cf1b",
   "execution_count": null
  },
  {
   "cell_type": "code",
   "outputs": [],
   "source": [
    "extracted_data = load_pdf_file(path=\"data/\")"
   ],
   "metadata": {
    "collapsed": false
   },
   "id": "8b3d9cbe358583cd",
   "execution_count": null
  },
  {
   "cell_type": "code",
   "outputs": [],
   "source": [
    "# Split the data into text chunks\n",
    "def text_split(data):\n",
    "    text_splitter = RecursiveCharacterTextSplitter(chunk_size=500, chunk_overlap=20)\n",
    "    return text_splitter.split_documents(data)"
   ],
   "metadata": {
    "collapsed": false
   },
   "id": "cc8c030091b1cd2e",
   "execution_count": null
  },
  {
   "cell_type": "code",
   "outputs": [],
   "source": [
    "text_chunks = text_split(extracted_data)\n",
    "len(text_chunks)"
   ],
   "metadata": {
    "collapsed": false
   },
   "id": "51eb6920166d6763",
   "execution_count": null
  },
  {
   "cell_type": "code",
   "outputs": [],
   "source": [
    "from langchain.embeddings import HuggingFaceEmbeddings"
   ],
   "metadata": {
    "collapsed": false
   },
   "id": "7b4a5c03ec7eee65",
   "execution_count": null
  },
  {
   "cell_type": "code",
   "outputs": [],
   "source": [
    "# Download huggingface embedding model from Hugging Face\n",
    "def download_hugging_face_embeddings():\n",
    "    return HuggingFaceEmbeddings(model=\"sentence-transformers/all-MiniLM-L6-v2\")"
   ],
   "metadata": {
    "collapsed": false
   },
   "id": "bc3d29278678d4c7"
  },
  {
   "cell_type": "code",
   "outputs": [],
   "source": [
    "embeddings = download_hugging_face_embeddings()"
   ],
   "metadata": {
    "collapsed": false
   },
   "id": "e8a7b277bad6c8e3"
  },
  {
   "cell_type": "code",
   "outputs": [],
   "source": [
    "from dotenv import load_dotenv\n",
    "from pinecone import Pinecone, ServerlessSpec\n",
    "import os\n",
    "\n",
    "load_dotenv()\n",
    "\n",
    "pc = Pinecone(api_key=os.environ.get(\"PINECONE_API_KEY\"))\n",
    "\n",
    "index_name = \"medibot\"\n",
    "\n",
    "pc.create_index(\n",
    "    name=index_name,\n",
    "    dimension= 384,\n",
    "    metric=\"cosine\",\n",
    "    spec=ServerlessSpec(\n",
    "        cloud=\"aws\",\n",
    "        region=\"us-east-1\"\n",
    "    ) \n",
    ")"
   ],
   "metadata": {
    "collapsed": false
   },
   "id": "cecbe7cf4189bec6",
   "execution_count": null
  },
  {
   "cell_type": "code",
   "outputs": [],
   "source": [
    "import os\n",
    "os.environ[\"PINECONE_API_KEY\"] = os.environ.get(\"PINECONE_API_KEY\")"
   ],
   "metadata": {
    "collapsed": false
   },
   "id": "23917cb09785ac46",
   "execution_count": null
  },
  {
   "cell_type": "code",
   "outputs": [],
   "source": [
    "from langchain_pinecone import PineconeVectorStore\n",
    "\n",
    "docs_search = PineconeVectorStore.from_documents(\n",
    "    documents=text_chunks,\n",
    "    index_name=index_name,\n",
    "    embedding=embeddings\n",
    ")"
   ],
   "metadata": {
    "collapsed": false
   },
   "id": "ab44f36893fc2661"
  },
  {
   "cell_type": "code",
   "outputs": [],
   "source": [
    "# Load existing index\n",
    "from langchain_pinecone import PineconeVectorStore\n",
    "\n",
    "docs_search = PineconeVectorStore.from_existing_index(\n",
    "    index_name=index_name,\n",
    "    embedding=embeddings\n",
    ")"
   ],
   "metadata": {
    "collapsed": false
   },
   "id": "163546569db39a7c",
   "execution_count": null
  },
  {
   "cell_type": "code",
   "outputs": [],
   "source": [
    "# Similarity Search\n",
    "retriever = docs_search.as_retriever(search_type=\"similarity\", search_kwargs={\"k\":3})\n",
    "retrieved_docs = retriever.invoke(\"What is Acromegaly and gigantism?\")"
   ],
   "metadata": {
    "collapsed": false
   },
   "id": "58fe7273ac786761"
  },
  {
   "cell_type": "code",
   "outputs": [],
   "source": [
    "from langchain_ollama import OllamaLLM\n",
    "model = OllamaLLM(model=\"llama3.2:latest\")"
   ],
   "metadata": {
    "collapsed": false
   },
   "id": "620d492aaa3a928"
  },
  {
   "cell_type": "code",
   "outputs": [],
   "source": [
    "from langchain.chains import create_retrieval_chain\n",
    "from langchain.chains.combine_documents import create_stuff_documents_chain\n",
    "from langchain_core.prompts import ChatPromptTemplate\n",
    "\n",
    "\n",
    "system_prompt = (\n",
    "    \"You are an assistant for question-answering tasks. \"\n",
    "    \"Use the following pieces of retrieved context to answer \"\n",
    "    \"the question. If you don't know the answer, say that you \"\n",
    "    \"don't know. Use three sentences maximum and keep the \"\n",
    "    \"answer concise.\"\n",
    "    \"\\n\\n\"\n",
    "    \"{context}\"\n",
    ")\n",
    "\n",
    "\n",
    "prompt = ChatPromptTemplate.from_messages(\n",
    "    [\n",
    "        (\"system\", system_prompt),\n",
    "        (\"human\", \"{input}\"),\n",
    "    ]\n",
    ")"
   ],
   "metadata": {
    "collapsed": false
   },
   "id": "62102137a5aeda51"
  },
  {
   "cell_type": "code",
   "outputs": [],
   "source": [
    "question_answer_chain = create_stuff_documents_chain(model, prompt)\n",
    "rag_chain = create_retrieval_chain(retriever, question_answer_chain)"
   ],
   "metadata": {
    "collapsed": false
   },
   "id": "4448bb967113e8c7"
  },
  {
   "cell_type": "code",
   "outputs": [],
   "source": [
    "response = rag_chain.invoke({\"input\": \"What is Acromegaly and gigantism?\"})\n",
    "print(response[\"answer\"])"
   ],
   "metadata": {
    "collapsed": false
   },
   "id": "a7eb0b1b98430ec9"
  },
  {
   "cell_type": "code",
   "outputs": [],
   "source": [
    "response = rag_chain.invoke({\"input\": \"What is stats?\"})\n",
    "print(response[\"answer\"])"
   ],
   "metadata": {
    "collapsed": false
   },
   "id": "2accd632eef7d4a9"
  }
 ],
 "metadata": {
  "kernelspec": {
   "display_name": "Python 3",
   "language": "python",
   "name": "python3"
  },
  "language_info": {
   "codemirror_mode": {
    "name": "ipython",
    "version": 2
   },
   "file_extension": ".py",
   "mimetype": "text/x-python",
   "name": "python",
   "nbconvert_exporter": "python",
   "pygments_lexer": "ipython2",
   "version": "2.7.6"
  }
 },
 "nbformat": 4,
 "nbformat_minor": 5
}
